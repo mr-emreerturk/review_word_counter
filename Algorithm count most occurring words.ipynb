{
 "cells": [
  {
   "cell_type": "code",
   "execution_count": 1,
   "id": "182d1e9d",
   "metadata": {},
   "outputs": [],
   "source": [
    "import pandas as pd"
   ]
  },
  {
   "cell_type": "code",
   "execution_count": 2,
   "id": "ddbd1861",
   "metadata": {},
   "outputs": [],
   "source": [
    "data = pd.read_csv(\"/Users/emre/Downloads/Copymining Osee - Copymining Raw file.csv\")"
   ]
  },
  {
   "cell_type": "code",
   "execution_count": 17,
   "id": "f9f8c06f",
   "metadata": {},
   "outputs": [],
   "source": [
    "def flat(lis):\n",
    "    flatList = []\n",
    "    # Iterate with outer list\n",
    "    for element in lis:\n",
    "        if type(element) is list:\n",
    "            # Check if type is list than iterate through the sublist\n",
    "            for item in element:\n",
    "                flatList.append(item)\n",
    "        else:\n",
    "            flatList.append(element)\n",
    "    return flatList\n",
    "\n",
    "def create_csv_most_common_words(number_of_words, data):\n",
    "    mask_list = []\n",
    "    mask_series = data.review.dropna().reset_index(drop=True)\n",
    "    for x in range(0, len(mask_series)):\n",
    "        mask = mask_series[x].split()\n",
    "        mask_list.append(mask)\n",
    "\n",
    "    flatList = []\n",
    "    # Iterate with outer list\n",
    "    for element in mask_list:\n",
    "        if type(element) is list:\n",
    "            # Check if type is list than iterate through the sublist\n",
    "            for item in element:\n",
    "                flatList.append(item)\n",
    "        else:\n",
    "            flatList.append(element)\n",
    "    list_of_words = flatList\n",
    "\n",
    "    from collections import Counter\n",
    "    counter = Counter(list_of_words)\n",
    "    result = counter.most_common(number_of_words)\n",
    "\n",
    "    complete_list = pd.DataFrame(result) #.to_csv(\"results_copymining\")\n",
    "    return complete_list"
   ]
  },
  {
   "cell_type": "code",
   "execution_count": 18,
   "id": "04c1d8a3",
   "metadata": {},
   "outputs": [
    {
     "data": {
      "text/html": [
       "<div>\n",
       "<style scoped>\n",
       "    .dataframe tbody tr th:only-of-type {\n",
       "        vertical-align: middle;\n",
       "    }\n",
       "\n",
       "    .dataframe tbody tr th {\n",
       "        vertical-align: top;\n",
       "    }\n",
       "\n",
       "    .dataframe thead th {\n",
       "        text-align: right;\n",
       "    }\n",
       "</style>\n",
       "<table border=\"1\" class=\"dataframe\">\n",
       "  <thead>\n",
       "    <tr style=\"text-align: right;\">\n",
       "      <th></th>\n",
       "      <th>0</th>\n",
       "      <th>1</th>\n",
       "    </tr>\n",
       "  </thead>\n",
       "  <tbody>\n",
       "    <tr>\n",
       "      <th>0</th>\n",
       "      <td>et</td>\n",
       "      <td>2843</td>\n",
       "    </tr>\n",
       "    <tr>\n",
       "      <th>1</th>\n",
       "      <td>de</td>\n",
       "      <td>2471</td>\n",
       "    </tr>\n",
       "    <tr>\n",
       "      <th>2</th>\n",
       "      <td>le</td>\n",
       "      <td>2145</td>\n",
       "    </tr>\n",
       "    <tr>\n",
       "      <th>3</th>\n",
       "      <td>!</td>\n",
       "      <td>1813</td>\n",
       "    </tr>\n",
       "    <tr>\n",
       "      <th>4</th>\n",
       "      <td>est</td>\n",
       "      <td>1799</td>\n",
       "    </tr>\n",
       "    <tr>\n",
       "      <th>...</th>\n",
       "      <td>...</td>\n",
       "      <td>...</td>\n",
       "    </tr>\n",
       "    <tr>\n",
       "      <th>995</th>\n",
       "      <td>envoûtante</td>\n",
       "      <td>10</td>\n",
       "    </tr>\n",
       "    <tr>\n",
       "      <th>996</th>\n",
       "      <td>hydrate</td>\n",
       "      <td>10</td>\n",
       "    </tr>\n",
       "    <tr>\n",
       "      <th>997</th>\n",
       "      <td>l'emballage</td>\n",
       "      <td>10</td>\n",
       "    </tr>\n",
       "    <tr>\n",
       "      <th>998</th>\n",
       "      <td>j’aime</td>\n",
       "      <td>10</td>\n",
       "    </tr>\n",
       "    <tr>\n",
       "      <th>999</th>\n",
       "      <td>celle</td>\n",
       "      <td>10</td>\n",
       "    </tr>\n",
       "  </tbody>\n",
       "</table>\n",
       "<p>1000 rows × 2 columns</p>\n",
       "</div>"
      ],
      "text/plain": [
       "               0     1\n",
       "0             et  2843\n",
       "1             de  2471\n",
       "2             le  2145\n",
       "3              !  1813\n",
       "4            est  1799\n",
       "..           ...   ...\n",
       "995   envoûtante    10\n",
       "996      hydrate    10\n",
       "997  l'emballage    10\n",
       "998       j’aime    10\n",
       "999        celle    10\n",
       "\n",
       "[1000 rows x 2 columns]"
      ]
     },
     "execution_count": 18,
     "metadata": {},
     "output_type": "execute_result"
    }
   ],
   "source": [
    "create_csv_most_common_words(1000, data=data)"
   ]
  },
  {
   "cell_type": "code",
   "execution_count": 16,
   "id": "4d640991",
   "metadata": {},
   "outputs": [
    {
     "ename": "NameError",
     "evalue": "name 'complete_list' is not defined",
     "output_type": "error",
     "traceback": [
      "\u001b[0;31m---------------------------------------------------------------------------\u001b[0m",
      "\u001b[0;31mNameError\u001b[0m                                 Traceback (most recent call last)",
      "Cell \u001b[0;32mIn [16], line 1\u001b[0m\n\u001b[0;32m----> 1\u001b[0m complete_list\n",
      "\u001b[0;31mNameError\u001b[0m: name 'complete_list' is not defined"
     ]
    }
   ],
   "source": [
    "complete_list"
   ]
  },
  {
   "cell_type": "code",
   "execution_count": 107,
   "id": "b76aef84",
   "metadata": {},
   "outputs": [],
   "source": [
    "mask_list = []\n",
    "mask_series = data.review.dropna().reset_index(drop=True)\n",
    "for x in range(0, len(mask_series)):\n",
    "    mask = mask_series[x].split()\n",
    "    mask_list.append(mask)\n",
    "\n",
    "list_of_words = flat(mask_list)\n",
    "\n",
    "from collections import Counter\n",
    "counter = Counter(list_of_words)\n",
    "rslt = counter.most_common(1000)"
   ]
  },
  {
   "cell_type": "code",
   "execution_count": 10,
   "id": "bff62b76",
   "metadata": {},
   "outputs": [
    {
     "ename": "NameError",
     "evalue": "name 'rslt' is not defined",
     "output_type": "error",
     "traceback": [
      "\u001b[0;31m---------------------------------------------------------------------------\u001b[0m",
      "\u001b[0;31mNameError\u001b[0m                                 Traceback (most recent call last)",
      "Cell \u001b[0;32mIn [10], line 1\u001b[0m\n\u001b[0;32m----> 1\u001b[0m rslt\n",
      "\u001b[0;31mNameError\u001b[0m: name 'rslt' is not defined"
     ]
    }
   ],
   "source": [
    "rslt"
   ]
  },
  {
   "cell_type": "code",
   "execution_count": 110,
   "id": "53496cc9",
   "metadata": {},
   "outputs": [],
   "source": [
    "pd.DataFrame(rslt).to_csv(\"results_copymining\")"
   ]
  }
 ],
 "metadata": {
  "kernelspec": {
   "display_name": "Python 3.8.13 ('venv': venv)",
   "language": "python",
   "name": "python3"
  },
  "language_info": {
   "codemirror_mode": {
    "name": "ipython",
    "version": 3
   },
   "file_extension": ".py",
   "mimetype": "text/x-python",
   "name": "python",
   "nbconvert_exporter": "python",
   "pygments_lexer": "ipython3",
   "version": "3.8.13"
  },
  "vscode": {
   "interpreter": {
    "hash": "2b525873dd796b5eae4b32707695963ea500d20b9684bb1de4cb7bf8b8a9264c"
   }
  }
 },
 "nbformat": 4,
 "nbformat_minor": 5
}
